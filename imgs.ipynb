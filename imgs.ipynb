{
 "cells": [
  {
   "cell_type": "markdown",
   "metadata": {},
   "source": [
    "# Quantum Computing"
   ]
  },
  {
   "cell_type": "code",
   "execution_count": null,
   "metadata": {},
   "outputs": [],
   "source": [
    "%load_ext autoreload\n",
    "%autoreload 2\n",
    "%matplotlib inline"
   ]
  },
  {
   "cell_type": "code",
   "execution_count": null,
   "metadata": {},
   "outputs": [],
   "source": [
    "# Imports\n",
    "import qiskit as q\n",
    "from qiskit import IBMQ\n",
    "from qiskit.tools.monitor import job_monitor\n",
    "# from qiskit.tools.visualization import plot_bloch_sphere\n",
    "from qiskit.visualization import plot_histogram, matplotlib\n",
    "import matplotlib.pyplot as plt\n",
    "import os"
   ]
  },
  {
   "cell_type": "code",
   "execution_count": null,
   "metadata": {},
   "outputs": [],
   "source": [
    "base_dir = 'imgs/'\n",
    "file_ending = '.svg'\n",
    "if not os.path.exists(base_dir):\n",
    "    os.mkdir(base_dir)"
   ]
  },
  {
   "cell_type": "code",
   "execution_count": null,
   "metadata": {},
   "outputs": [],
   "source": [
    "def get_path(file_name):\n",
    "    return base_dir + file_name + file_ending"
   ]
  },
  {
   "cell_type": "code",
   "execution_count": null,
   "metadata": {},
   "outputs": [],
   "source": [
    "# H Gate\n",
    "circuit = q.QuantumCircuit(1)\n",
    "circuit.h(0)\n",
    "circuit.draw(output='mpl', filename=get_path('h_gate'))"
   ]
  },
  {
   "cell_type": "code",
   "execution_count": null,
   "metadata": {},
   "outputs": [],
   "source": [
    "# NOT Gate\n",
    "circuit = q.QuantumCircuit(1)\n",
    "circuit.x(0)\n",
    "circuit.draw(output='mpl', filename=get_path('not_gate'))"
   ]
  },
  {
   "cell_type": "code",
   "execution_count": null,
   "metadata": {},
   "outputs": [],
   "source": [
    "# CNOT Gate\n",
    "circuit = q.QuantumCircuit(2)\n",
    "circuit.cx(0, 1)\n",
    "circuit.draw(output='mpl', filename=get_path('cnot_gate'))"
   ]
  },
  {
   "cell_type": "code",
   "execution_count": null,
   "metadata": {},
   "outputs": [],
   "source": [
    "# Entaglement\n",
    "circuit = q.QuantumCircuit(2)\n",
    "circuit.h(0)\n",
    "circuit.cx(0, 1)\n",
    "circuit.draw(output='mpl', filename=get_path('entaglement'))"
   ]
  },
  {
   "cell_type": "code",
   "execution_count": null,
   "metadata": {},
   "outputs": [],
   "source": [
    "# Toffoli Gate\n",
    "circuit = q.QuantumCircuit(3)\n",
    "circuit.ccx(0, 1, 2)\n",
    "circuit.draw(output='mpl', filename=get_path('toffoli_gate'))"
   ]
  },
  {
   "cell_type": "code",
   "execution_count": null,
   "metadata": {},
   "outputs": [],
   "source": [
    "# SWAP Gate\n",
    "circuit = q.QuantumCircuit(2)\n",
    "circuit.swap(0, 1)\n",
    "circuit.draw(output='mpl', filename=get_path('swap_gate'))"
   ]
  },
  {
   "cell_type": "code",
   "execution_count": null,
   "metadata": {},
   "outputs": [],
   "source": [
    "# I Gate\n",
    "circuit = q.QuantumCircuit(1)\n",
    "circuit.i(0)\n",
    "circuit.draw(output='mpl', filename=get_path('i_gate'))"
   ]
  },
  {
   "cell_type": "code",
   "execution_count": null,
   "metadata": {},
   "outputs": [],
   "source": [
    "# T Gate\n",
    "circuit = q.QuantumCircuit(1)\n",
    "circuit.t(0)\n",
    "circuit.draw(output='mpl', filename=get_path('t_gate'))"
   ]
  },
  {
   "cell_type": "code",
   "execution_count": null,
   "metadata": {},
   "outputs": [],
   "source": [
    "# S Gate\n",
    "circuit = q.QuantumCircuit(1)\n",
    "circuit.s(0)\n",
    "circuit.draw(output='mpl', filename=get_path('s_gate'))"
   ]
  },
  {
   "cell_type": "code",
   "execution_count": null,
   "metadata": {},
   "outputs": [],
   "source": [
    "# Z Gate\n",
    "circuit = q.QuantumCircuit(1)\n",
    "circuit.z(0)\n",
    "circuit.draw(output='mpl', filename=get_path('z_gate'))"
   ]
  },
  {
   "cell_type": "code",
   "execution_count": null,
   "metadata": {},
   "outputs": [],
   "source": [
    "# Tdg Gate\n",
    "circuit = q.QuantumCircuit(1)\n",
    "circuit.tdg(0)\n",
    "circuit.draw(output='mpl', filename=get_path('tdg_gate'))"
   ]
  },
  {
   "cell_type": "code",
   "execution_count": null,
   "metadata": {},
   "outputs": [],
   "source": [
    "# Sdg Gate\n",
    "circuit = q.QuantumCircuit(1)\n",
    "circuit.sdg(0)\n",
    "circuit.draw(output='mpl', filename=get_path('sdg_gate'))"
   ]
  },
  {
   "cell_type": "code",
   "execution_count": null,
   "metadata": {},
   "outputs": [],
   "source": [
    "# Phase Gate\n",
    "circuit = q.QuantumCircuit(1)\n",
    "circuit.p(0, 0)\n",
    "circuit.draw(output='mpl', filename=get_path('phase_gate'))"
   ]
  },
  {
   "cell_type": "code",
   "execution_count": null,
   "metadata": {},
   "outputs": [],
   "source": [
    "# RZ Gate\n",
    "circuit = q.QuantumCircuit(1)\n",
    "circuit.rz(0, 0)\n",
    "circuit.draw(output='mpl', filename=get_path('rz_gate'))"
   ]
  },
  {
   "cell_type": "code",
   "execution_count": null,
   "metadata": {},
   "outputs": [],
   "source": [
    "# Reset Gate\n",
    "circuit = q.QuantumCircuit(1)\n",
    "circuit.reset(0)\n",
    "circuit.draw(output='mpl', filename=get_path('reset_gate'))"
   ]
  },
  {
   "cell_type": "code",
   "execution_count": null,
   "metadata": {},
   "outputs": [],
   "source": [
    "# Measure Gate\n",
    "circuit = q.QuantumCircuit(1)\n",
    "circuit.measure_all()\n",
    "circuit.draw(output='mpl', filename=get_path('measure_gate'))"
   ]
  },
  {
   "cell_type": "code",
   "execution_count": null,
   "metadata": {},
   "outputs": [],
   "source": [
    "# Control Modifier Gate\n",
    "#circuit = q.QuantumCircuit(1)\n",
    "#circuit.cm(0)\n",
    "#circuit.draw(output='mpl', filename=get_path('control_modifier_gate'))"
   ]
  },
  {
   "cell_type": "code",
   "execution_count": null,
   "metadata": {},
   "outputs": [],
   "source": [
    "# If Gate\n",
    "qr = q.QuantumRegister(1)\n",
    "cr = q.ClassicalRegister(1)\n",
    "circuit = q.QuantumCircuit(qr, cr)\n",
    "circuit.x(qr[0]).c_if(cr, 0)\n",
    "circuit.draw(output='mpl', filename=get_path('if_gate'))"
   ]
  },
  {
   "cell_type": "code",
   "execution_count": null,
   "metadata": {},
   "outputs": [],
   "source": [
    "# Barrier Gate\n",
    "circuit = q.QuantumCircuit(1)\n",
    "circuit.x(0)\n",
    "circuit.barrier()\n",
    "circuit.draw(output='mpl', filename=get_path('barrier_gate'))"
   ]
  },
  {
   "cell_type": "code",
   "execution_count": null,
   "metadata": {},
   "outputs": [],
   "source": []
  },
  {
   "cell_type": "code",
   "execution_count": null,
   "metadata": {},
   "outputs": [],
   "source": []
  },
  {
   "cell_type": "code",
   "execution_count": null,
   "metadata": {},
   "outputs": [],
   "source": []
  },
  {
   "cell_type": "code",
   "execution_count": null,
   "metadata": {},
   "outputs": [],
   "source": []
  },
  {
   "cell_type": "code",
   "execution_count": null,
   "metadata": {},
   "outputs": [],
   "source": []
  },
  {
   "cell_type": "code",
   "execution_count": null,
   "metadata": {},
   "outputs": [],
   "source": []
  },
  {
   "cell_type": "code",
   "execution_count": null,
   "metadata": {},
   "outputs": [],
   "source": []
  },
  {
   "cell_type": "code",
   "execution_count": null,
   "metadata": {},
   "outputs": [],
   "source": []
  },
  {
   "cell_type": "code",
   "execution_count": null,
   "metadata": {},
   "outputs": [],
   "source": []
  }
 ],
 "metadata": {
  "kernelspec": {
   "display_name": "Python 3.9.2  ('venv': venv)",
   "name": "quantumcomputing"
  },
  "language_info": {
   "codemirror_mode": {
    "name": "ipython",
    "version": 3
   },
   "file_extension": ".py",
   "mimetype": "text/x-python",
   "name": "python",
   "nbconvert_exporter": "python",
   "pygments_lexer": "ipython3",
   "version": "3.9.2"
  },
  "metadata": {
   "interpreter": {
    "hash": "a38933755b5d9879f6269ad3d6cba44b26d5caaf945d6ace56736fb770825be2"
   }
  }
 },
 "nbformat": 4,
 "nbformat_minor": 2
}
