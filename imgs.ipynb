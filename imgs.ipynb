{
 "cells": [
  {
   "cell_type": "markdown",
   "metadata": {},
   "source": [
    "# Quantum Computing"
   ]
  },
  {
   "cell_type": "code",
   "execution_count": null,
   "metadata": {},
   "outputs": [],
   "source": [
    "%load_ext autoreload\n",
    "%autoreload 2\n",
    "%matplotlib inline"
   ]
  },
  {
   "cell_type": "code",
   "execution_count": null,
   "metadata": {},
   "outputs": [],
   "source": [
    "import qiskit as q\n",
    "from qiskit import IBMQ\n",
    "from qiskit.tools.monitor import job_monitor\n",
    "from qiskit.visualization import plot_histogram, matplotlib, plot_bloch_multivector, plot_state_qsphere\n",
    "import matplotlib.pyplot as plt\n",
    "import numpy as np\n",
    "import os"
   ]
  },
  {
   "cell_type": "code",
   "execution_count": null,
   "metadata": {},
   "outputs": [],
   "source": [
    "base_dir = 'imgs/'\n",
    "gates_dir = base_dir + 'gates/'\n",
    "bloch_dir = base_dir + 'bloch/'\n",
    "q_sphere_dir = base_dir + 'sphere/'\n",
    "file_ending = '.svg'\n",
    "\n",
    "if not os.path.exists(base_dir):\n",
    "    os.mkdir(base_dir)\n",
    "\n",
    "if not os.path.exists(gates_dir):\n",
    "    os.mkdir(gates_dir)\n",
    "\n",
    "if not os.path.exists(bloch_dir):\n",
    "    os.mkdir(bloch_dir)\n",
    "\n",
    "if not os.path.exists(q_sphere_dir):\n",
    "    os.mkdir(q_sphere_dir)"
   ]
  },
  {
   "cell_type": "code",
   "execution_count": null,
   "metadata": {},
   "outputs": [],
   "source": [
    "def get_gates_path(file_name):\n",
    "    return gates_dir + file_name + file_ending\n",
    "\n",
    "def get_bloch_path(file_name):\n",
    "    return bloch_dir + file_name + file_ending\n",
    "\n",
    "def get_qsphere_path(file_name):\n",
    "    return q_sphere_dir + file_name + file_ending"
   ]
  },
  {
   "cell_type": "code",
   "execution_count": null,
   "metadata": {},
   "outputs": [],
   "source": [
    "def get_0_circuit(n=1):\n",
    "    circuit = q.QuantumCircuit(n)\n",
    "    return circuit\n",
    "\n",
    "def get_1_circuit(n=1):\n",
    "    circuit = q.QuantumCircuit(n)\n",
    "    for i in range(n):\n",
    "        circuit.x(i)\n",
    "    return circuit\n",
    "\n",
    "def save_bloch(circuit, name):\n",
    "    sim = q.Aer.get_backend('statevector_simulator')\n",
    "    obj = q.assemble(circuit)\n",
    "    state = sim.run(obj).result().get_statevector()\n",
    "    plot_bloch_multivector(state).savefig(get_bloch_path(name))\n",
    "    return plot_bloch_multivector(state)\n",
    "\n",
    "def full_bloch_plots(circuit, name):\n",
    "    save_bloch(get_0_circuit(len(circuit.qubits)) + circuit, name + '_init_0')\n",
    "\n",
    "    c = get_0_circuit(len(circuit.qubits))\n",
    "    c.h(0)\n",
    "    save_bloch(c + circuit, name + '_init_x')\n",
    "\n",
    "    c = get_0_circuit(len(circuit.qubits))\n",
    "    c.h(0)\n",
    "    c.s(0)\n",
    "    save_bloch(c + circuit, name + '_init_y')\n",
    "\n",
    "def save_q_sphere(circuit, name):\n",
    "    sim = q.Aer.get_backend('statevector_simulator')\n",
    "    obj = q.assemble(circuit)\n",
    "    state = sim.run(obj).result().get_statevector()\n",
    "    plot_state_qsphere(state).savefig(get_qsphere_path(name))\n",
    "\n",
    "def full_q_sphere(circuit, name):\n",
    "    save_q_sphere(get_0_circuit(len(circuit.qubits)) + circuit, name + '_init_0')\n",
    "\n",
    "    c = get_0_circuit(len(circuit.qubits))\n",
    "    c.h(0)\n",
    "    #c.h(1)\n",
    "    save_q_sphere(c + circuit, name + '_init_x')\n",
    "\n",
    "    c = get_0_circuit(len(circuit.qubits))\n",
    "    c.h(0)\n",
    "    c.s(0)\n",
    "    #c.h(1)\n",
    "    #c.s(1)\n",
    "    save_q_sphere(c + circuit, name + '_init_y')"
   ]
  },
  {
   "cell_type": "code",
   "execution_count": null,
   "metadata": {},
   "outputs": [],
   "source": [
    "# Initial state\n",
    "full_bloch_plots(get_0_circuit(), 'bloch_n1')\n",
    "full_q_sphere(get_0_circuit(), 'sphere_n1')\n",
    "\n",
    "full_bloch_plots(get_0_circuit(n=2), 'bloch_n2')\n",
    "full_q_sphere(get_0_circuit(n=2), 'sphere_n2')\n",
    "\n",
    "full_bloch_plots(get_0_circuit(n=3), 'bloch_n3')\n",
    "full_q_sphere(get_0_circuit(n=3), 'sphere_n3')"
   ]
  },
  {
   "cell_type": "code",
   "execution_count": null,
   "metadata": {},
   "outputs": [],
   "source": [
    "# H Gate\n",
    "circuit = q.QuantumCircuit(1)\n",
    "circuit.h(0)\n",
    "circuit.draw(output='mpl', filename=get_gates_path('h_gate'))\n",
    "full_bloch_plots(circuit, 'h_bloch')\n",
    "full_q_sphere(circuit, 'h_sphere')"
   ]
  },
  {
   "cell_type": "code",
   "execution_count": null,
   "metadata": {},
   "outputs": [],
   "source": [
    "# NOT Gate\n",
    "circuit = q.QuantumCircuit(1)\n",
    "circuit.x(0)\n",
    "circuit.draw(output='mpl', filename=get_gates_path('not_gate'))\n",
    "full_bloch_plots(circuit, 'not_bloch')\n",
    "full_q_sphere(circuit, 'not_sphere')"
   ]
  },
  {
   "cell_type": "code",
   "execution_count": null,
   "metadata": {},
   "outputs": [],
   "source": [
    "# CNOT Gate\n",
    "circuit = q.QuantumCircuit(2)\n",
    "circuit.cx(0, 1)\n",
    "circuit.draw(output='mpl', filename=get_gates_path('cnot_gate'))\n",
    "full_bloch_plots(circuit, 'cnot_bloch')\n",
    "full_q_sphere(circuit, 'cnot_sphere')"
   ]
  },
  {
   "cell_type": "code",
   "execution_count": null,
   "metadata": {},
   "outputs": [],
   "source": [
    "# Entaglement\n",
    "circuit = q.QuantumCircuit(2)\n",
    "circuit.h(0)\n",
    "circuit.cx(0, 1)\n",
    "circuit.draw(output='mpl', filename=get_gates_path('entanglement'))\n",
    "\n",
    "# Save manually\n",
    "\n",
    "# Rotate only one qubits at a time and save manually\n",
    "\n",
    "#full_bloch_plots(circuit, 'entanglement_bloch')\n",
    "#full_q_sphere(circuit, 'entanglement_sphere')"
   ]
  },
  {
   "cell_type": "code",
   "execution_count": null,
   "metadata": {},
   "outputs": [],
   "source": [
    "# Toffoli Gate\n",
    "circuit = q.QuantumCircuit(3)\n",
    "circuit.ccx(0, 1, 2)\n",
    "circuit.draw(output='mpl', filename=get_gates_path('toffoli_gate'))\n",
    "full_bloch_plots(circuit, 'toffoli_bloch')\n",
    "full_q_sphere(circuit, 'toffoli_sphere')"
   ]
  },
  {
   "cell_type": "code",
   "execution_count": null,
   "metadata": {},
   "outputs": [],
   "source": [
    "# SWAP Gate\n",
    "circuit = q.QuantumCircuit(2)\n",
    "circuit.swap(0, 1)\n",
    "circuit.draw(output='mpl', filename=get_gates_path('swap_gate'))\n",
    "full_bloch_plots(circuit, 'swap_bloch')\n",
    "full_q_sphere(circuit, 'swap_sphere')"
   ]
  },
  {
   "cell_type": "code",
   "execution_count": null,
   "metadata": {},
   "outputs": [],
   "source": [
    "# I Gate\n",
    "circuit = q.QuantumCircuit(1)\n",
    "circuit.i(0)\n",
    "circuit.draw(output='mpl', filename=get_gates_path('i_gate'))\n",
    "full_bloch_plots(circuit, 'i_bloch')\n",
    "full_q_sphere(circuit, 'i_sphere')"
   ]
  },
  {
   "cell_type": "code",
   "execution_count": null,
   "metadata": {},
   "outputs": [],
   "source": [
    "# T Gate\n",
    "circuit = q.QuantumCircuit(1)\n",
    "circuit.t(0)\n",
    "circuit.draw(output='mpl', filename=get_gates_path('t_gate'))\n",
    "full_bloch_plots(circuit, 't_bloch')\n",
    "full_q_sphere(circuit, 't_sphere')"
   ]
  },
  {
   "cell_type": "code",
   "execution_count": null,
   "metadata": {},
   "outputs": [],
   "source": [
    "# S Gate\n",
    "circuit = q.QuantumCircuit(1)\n",
    "circuit.s(0)\n",
    "circuit.draw(output='mpl', filename=get_gates_path('s_gate'))\n",
    "full_bloch_plots(circuit, 's_bloch')\n",
    "full_q_sphere(circuit, 's_sphere')"
   ]
  },
  {
   "cell_type": "code",
   "execution_count": null,
   "metadata": {},
   "outputs": [],
   "source": [
    "# Z Gate\n",
    "circuit = q.QuantumCircuit(1)\n",
    "circuit.z(0)\n",
    "circuit.draw(output='mpl', filename=get_gates_path('z_gate'))\n",
    "full_bloch_plots(circuit, 'z_bloch')\n",
    "full_q_sphere(circuit, 'z_sphere')"
   ]
  },
  {
   "cell_type": "code",
   "execution_count": null,
   "metadata": {},
   "outputs": [],
   "source": [
    "# Tdg Gate\n",
    "circuit = q.QuantumCircuit(1)\n",
    "circuit.tdg(0)\n",
    "circuit.draw(output='mpl', filename=get_gates_path('tdg_gate'))\n",
    "full_bloch_plots(circuit, 'tdg_bloch')\n",
    "full_q_sphere(circuit, 'tdg_sphere')"
   ]
  },
  {
   "cell_type": "code",
   "execution_count": null,
   "metadata": {},
   "outputs": [],
   "source": [
    "# Sdg Gate\n",
    "circuit = q.QuantumCircuit(1)\n",
    "circuit.sdg(0)\n",
    "circuit.draw(output='mpl', filename=get_gates_path('sdg_gate'))\n",
    "full_bloch_plots(circuit, 'sdg_bloch')\n",
    "full_q_sphere(circuit, 'sdg_sphere')"
   ]
  },
  {
   "cell_type": "code",
   "execution_count": null,
   "metadata": {},
   "outputs": [],
   "source": [
    "# Phase Gate\n",
    "circuit = q.QuantumCircuit(1)\n",
    "circuit.p(np.pi/6, 0)\n",
    "circuit.draw(output='mpl', filename=get_gates_path('p_gate'))\n",
    "full_bloch_plots(circuit, 'p_bloch')\n",
    "full_q_sphere(circuit, 'p_sphere')"
   ]
  },
  {
   "cell_type": "code",
   "execution_count": null,
   "metadata": {},
   "outputs": [],
   "source": [
    "# RZ Gate\n",
    "circuit = q.QuantumCircuit(1)\n",
    "circuit.rz(np.pi/6, 0)\n",
    "circuit.draw(output='mpl', filename=get_gates_path('rz_gate'))\n",
    "full_bloch_plots(circuit, 'rz_bloch')\n",
    "full_q_sphere(circuit, 'rz_sphere')"
   ]
  },
  {
   "cell_type": "code",
   "execution_count": null,
   "metadata": {},
   "outputs": [],
   "source": [
    "# Reset Gate\n",
    "circuit = q.QuantumCircuit(1)\n",
    "circuit.reset(0)\n",
    "circuit.draw(output='mpl', filename=get_gates_path('reset_gate'))\n",
    "full_bloch_plots(circuit, 'reset_bloch')\n",
    "full_q_sphere(circuit, 'reset_sphere')"
   ]
  },
  {
   "cell_type": "code",
   "execution_count": null,
   "metadata": {},
   "outputs": [],
   "source": [
    "# Measure Gate\n",
    "circuit = q.QuantumCircuit(1)\n",
    "circuit.measure_all()\n",
    "circuit.draw(output='mpl', filename=get_gates_path('measure_gate'))\n",
    "full_bloch_plots(circuit, 'measure_bloch')\n",
    "full_q_sphere(circuit, 'measure_sphere')"
   ]
  },
  {
   "cell_type": "code",
   "execution_count": null,
   "metadata": {},
   "outputs": [],
   "source": [
    "# Control Modifier Gate\n",
    "#circuit = q.QuantumCircuit(1)\n",
    "#circuit.cm(0)\n",
    "#circuit.draw(output='mpl', filename=get_path('control_modifier_gate'))"
   ]
  },
  {
   "cell_type": "code",
   "execution_count": null,
   "metadata": {},
   "outputs": [],
   "source": [
    "# If Gate\n",
    "qr = q.QuantumRegister(1)\n",
    "cr = q.ClassicalRegister(1)\n",
    "circuit = q.QuantumCircuit(qr, cr)\n",
    "circuit.x(qr[0]).c_if(cr, 0)\n",
    "circuit.draw(output='mpl', filename=get_gates_path('if_gate'))\n",
    "full_bloch_plots(circuit, 'if_bloch')\n",
    "full_q_sphere(circuit, 'if_sphere')"
   ]
  },
  {
   "cell_type": "code",
   "execution_count": null,
   "metadata": {},
   "outputs": [],
   "source": [
    "# Barrier Gate\n",
    "circuit = q.QuantumCircuit(1)\n",
    "circuit.x(0)\n",
    "circuit.barrier()\n",
    "circuit.draw(output='mpl', filename=get_gates_path('barrier_gate'))"
   ]
  },
  {
   "cell_type": "code",
   "execution_count": null,
   "metadata": {},
   "outputs": [],
   "source": [
    "# SX Gate\n",
    "circuit = q.QuantumCircuit(1)\n",
    "circuit.sx(0)\n",
    "circuit.draw(output='mpl', filename=get_gates_path('sx_gate'))\n",
    "full_bloch_plots(circuit, 'sx_bloch')\n",
    "full_q_sphere(circuit, 'sx_sphere')"
   ]
  },
  {
   "cell_type": "code",
   "execution_count": null,
   "metadata": {},
   "outputs": [],
   "source": [
    "# SXdg Gate\n",
    "circuit = q.QuantumCircuit(1)\n",
    "circuit.sxdg(0)\n",
    "circuit.draw(output='mpl', filename=get_gates_path('sxdg_gate'))\n",
    "full_bloch_plots(circuit, 'sxdg_bloch') # Why does this fail?\n",
    "#full_q_sphere(circuit, 'sxdg_sphere')"
   ]
  },
  {
   "cell_type": "code",
   "execution_count": null,
   "metadata": {},
   "outputs": [],
   "source": [
    "# Y Gate\n",
    "circuit = q.QuantumCircuit(1)\n",
    "circuit.y(0)\n",
    "circuit.draw(output='mpl', filename=get_gates_path('y_gate'))\n",
    "full_bloch_plots(circuit, 'y_bloch')\n",
    "full_q_sphere(circuit, 'y_sphere')"
   ]
  },
  {
   "cell_type": "code",
   "execution_count": null,
   "metadata": {},
   "outputs": [],
   "source": [
    "# RX Gate\n",
    "circuit = q.QuantumCircuit(1)\n",
    "circuit.rx(np.pi/6, 0)\n",
    "circuit.draw(output='mpl', filename=get_gates_path('rx_gate'))\n",
    "full_bloch_plots(circuit, 'rx_bloch')\n",
    "full_q_sphere(circuit, 'rx_sphere')"
   ]
  },
  {
   "cell_type": "code",
   "execution_count": null,
   "metadata": {},
   "outputs": [],
   "source": [
    "# RY Gate\n",
    "circuit = q.QuantumCircuit(1)\n",
    "circuit.ry(np.pi/6, 0)\n",
    "circuit.draw(output='mpl', filename=get_gates_path('ry_gate'))\n",
    "full_bloch_plots(circuit, 'ry_bloch')\n",
    "full_q_sphere(circuit, 'ry_sphere')"
   ]
  },
  {
   "cell_type": "code",
   "execution_count": null,
   "metadata": {},
   "outputs": [],
   "source": [
    "# RZ Gate\n",
    "circuit = q.QuantumCircuit(1)\n",
    "circuit.rz(np.pi/6, 0)\n",
    "circuit.draw(output='mpl', filename=get_gates_path('rz_gate'))\n",
    "full_bloch_plots(circuit, 'rz_bloch')\n",
    "full_q_sphere(circuit, 'rz_sphere')"
   ]
  },
  {
   "cell_type": "code",
   "execution_count": null,
   "metadata": {},
   "outputs": [],
   "source": [
    "# RXX Gate\n",
    "circuit = q.QuantumCircuit(2)\n",
    "circuit.rxx(np.pi/6, 0, 1)\n",
    "circuit.draw(output='mpl', filename=get_gates_path('rxx_gate'))\n",
    "full_bloch_plots(circuit, 'rxx_bloch')\n",
    "full_q_sphere(circuit, 'rxx_sphere')"
   ]
  },
  {
   "cell_type": "code",
   "execution_count": null,
   "metadata": {},
   "outputs": [],
   "source": [
    "# RYY Gate\n",
    "circuit = q.QuantumCircuit(2)\n",
    "circuit.ryy(np.pi/6, 0, 1)\n",
    "circuit.draw(output='mpl', filename=get_gates_path('ryy_gate'))\n",
    "full_bloch_plots(circuit, 'ryy_bloch')\n",
    "full_q_sphere(circuit, 'ryy_sphere')"
   ]
  },
  {
   "cell_type": "code",
   "execution_count": null,
   "metadata": {},
   "outputs": [],
   "source": [
    "# RZZ Gate\n",
    "circuit = q.QuantumCircuit(2)\n",
    "circuit.rzz(np.pi/6, 0, 1)\n",
    "circuit.draw(output='mpl', filename=get_gates_path('rzz_gate'))\n",
    "full_bloch_plots(circuit, 'rzz_bloch')\n",
    "full_q_sphere(circuit, 'rzz_sphere')"
   ]
  },
  {
   "cell_type": "code",
   "execution_count": null,
   "metadata": {},
   "outputs": [],
   "source": [
    "# U Gate\n",
    "circuit = q.QuantumCircuit(1)\n",
    "circuit.u(np.pi/2, np.pi/4, np.pi/6, 0)\n",
    "circuit.draw(output='mpl', filename=get_gates_path('u_gate'))\n",
    "full_bloch_plots(circuit, 'u_bloch')\n",
    "full_q_sphere(circuit, 'u_sphere')"
   ]
  },
  {
   "cell_type": "code",
   "execution_count": null,
   "metadata": {},
   "outputs": [],
   "source": [
    "# U1 Gate\n",
    "circuit = q.QuantumCircuit(1)\n",
    "circuit.u1(np.pi/6, 0)\n",
    "circuit.draw(output='mpl', filename=get_gates_path('u1_gate'))\n",
    "full_bloch_plots(circuit, 'u1_bloch')\n",
    "full_q_sphere(circuit, 'u1_sphere')"
   ]
  },
  {
   "cell_type": "code",
   "execution_count": null,
   "metadata": {},
   "outputs": [],
   "source": [
    "# U2 Gate\n",
    "circuit = q.QuantumCircuit(1)\n",
    "circuit.u2(np.pi/4, np.pi/6, 0)\n",
    "circuit.draw(output='mpl', filename=get_gates_path('u2_gate'))\n",
    "full_bloch_plots(circuit, 'u2_bloch')\n",
    "full_q_sphere(circuit, 'u2_sphere')"
   ]
  },
  {
   "cell_type": "code",
   "execution_count": null,
   "metadata": {},
   "outputs": [],
   "source": [
    "# U3 Gate\n",
    "circuit = q.QuantumCircuit(1)\n",
    "circuit.u3(np.pi/2, np.pi/4, np.pi/6, 0)\n",
    "circuit.draw(output='mpl', filename=get_gates_path('u3_gate'))\n",
    "full_bloch_plots(circuit, 'u3_bloch')\n",
    "full_q_sphere(circuit, 'u3_sphere')"
   ]
  },
  {
   "cell_type": "code",
   "execution_count": null,
   "metadata": {},
   "outputs": [],
   "source": []
  },
  {
   "cell_type": "code",
   "execution_count": null,
   "metadata": {},
   "outputs": [],
   "source": []
  },
  {
   "cell_type": "code",
   "execution_count": null,
   "metadata": {},
   "outputs": [],
   "source": []
  },
  {
   "cell_type": "code",
   "execution_count": null,
   "metadata": {},
   "outputs": [],
   "source": []
  },
  {
   "cell_type": "code",
   "execution_count": null,
   "metadata": {},
   "outputs": [],
   "source": []
  },
  {
   "cell_type": "code",
   "execution_count": null,
   "metadata": {},
   "outputs": [],
   "source": []
  },
  {
   "cell_type": "code",
   "execution_count": null,
   "metadata": {},
   "outputs": [],
   "source": []
  },
  {
   "cell_type": "code",
   "execution_count": null,
   "metadata": {},
   "outputs": [],
   "source": []
  },
  {
   "cell_type": "code",
   "execution_count": null,
   "metadata": {},
   "outputs": [],
   "source": []
  },
  {
   "cell_type": "code",
   "execution_count": null,
   "metadata": {},
   "outputs": [],
   "source": []
  },
  {
   "cell_type": "code",
   "execution_count": null,
   "metadata": {},
   "outputs": [],
   "source": []
  },
  {
   "cell_type": "code",
   "execution_count": null,
   "metadata": {},
   "outputs": [],
   "source": []
  }
 ],
 "metadata": {
  "kernelspec": {
   "display_name": "Python 3.9.2 64-bit ('venv')",
   "name": "python392jvsc74a57bd0fb2a73df0d5e3e8a45dc9b5f124b95e2f8841d2ac6e4c2d0911a6c9b42ebef42"
  },
  "language_info": {
   "codemirror_mode": {
    "name": "ipython",
    "version": 3
   },
   "file_extension": ".py",
   "mimetype": "text/x-python",
   "name": "python",
   "nbconvert_exporter": "python",
   "pygments_lexer": "ipython3",
   "version": "3.9.2"
  },
  "metadata": {
   "interpreter": {
    "hash": "a38933755b5d9879f6269ad3d6cba44b26d5caaf945d6ace56736fb770825be2"
   }
  }
 },
 "nbformat": 4,
 "nbformat_minor": 2
}
